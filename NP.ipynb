{
 "cells": [
  {
   "cell_type": "code",
   "execution_count": 2,
   "metadata": {},
   "outputs": [
    {
     "name": "stderr",
     "output_type": "stream",
     "text": [
      "/usr/lib/python3/dist-packages/pkg_resources/__init__.py:116: PkgResourcesDeprecationWarning: 1.1build1 is an invalid version and will not be supported in a future release\n",
      "  warnings.warn(\n",
      "/usr/lib/python3/dist-packages/pkg_resources/__init__.py:116: PkgResourcesDeprecationWarning: 1.1build1 is an invalid version and will not be supported in a future release\n",
      "  warnings.warn(\n"
     ]
    }
   ],
   "source": [
    "import pandas as pd\n",
    "from neuralprophet import NeuralProphet\n",
    "import pickle\n",
    "import joblib"
   ]
  },
  {
   "cell_type": "code",
   "execution_count": 11,
   "metadata": {},
   "outputs": [],
   "source": [
    "filename = 'np_model2.sav'\n",
    "main_model = joblib.load(filename)"
   ]
  },
  {
   "cell_type": "code",
   "execution_count": null,
   "metadata": {},
   "outputs": [],
   "source": [
    "with open('/root/weather_app/np_model2.pkl', 'wb') as fout:\n",
    "    pickle.dump(main_model,fout)  "
   ]
  },
  {
   "cell_type": "code",
   "execution_count": null,
   "metadata": {},
   "outputs": [],
   "source": [
    "with open('/root/weather_app/reg_precip.pkl', 'rb') as fout:\n",
    " precip_model = pickle.load(fout)"
   ]
  },
  {
   "cell_type": "code",
   "execution_count": 2,
   "metadata": {},
   "outputs": [
    {
     "data": {
      "text/html": [
       "<div>\n",
       "<style scoped>\n",
       "    .dataframe tbody tr th:only-of-type {\n",
       "        vertical-align: middle;\n",
       "    }\n",
       "\n",
       "    .dataframe tbody tr th {\n",
       "        vertical-align: top;\n",
       "    }\n",
       "\n",
       "    .dataframe thead th {\n",
       "        text-align: right;\n",
       "    }\n",
       "</style>\n",
       "<table border=\"1\" class=\"dataframe\">\n",
       "  <thead>\n",
       "    <tr style=\"text-align: right;\">\n",
       "      <th></th>\n",
       "      <th>ds</th>\n",
       "      <th>y</th>\n",
       "      <th>precip</th>\n",
       "      <th>temp_min</th>\n",
       "    </tr>\n",
       "  </thead>\n",
       "  <tbody>\n",
       "    <tr>\n",
       "      <th>0</th>\n",
       "      <td>1960-01-01</td>\n",
       "      <td>49.0</td>\n",
       "      <td>0.0</td>\n",
       "      <td>30.0</td>\n",
       "    </tr>\n",
       "    <tr>\n",
       "      <th>1</th>\n",
       "      <td>1960-01-02</td>\n",
       "      <td>49.0</td>\n",
       "      <td>0.0</td>\n",
       "      <td>29.0</td>\n",
       "    </tr>\n",
       "    <tr>\n",
       "      <th>2</th>\n",
       "      <td>1960-01-03</td>\n",
       "      <td>54.0</td>\n",
       "      <td>0.0</td>\n",
       "      <td>35.0</td>\n",
       "    </tr>\n",
       "    <tr>\n",
       "      <th>3</th>\n",
       "      <td>1960-01-04</td>\n",
       "      <td>54.0</td>\n",
       "      <td>0.0</td>\n",
       "      <td>36.0</td>\n",
       "    </tr>\n",
       "    <tr>\n",
       "      <th>4</th>\n",
       "      <td>1960-01-05</td>\n",
       "      <td>55.0</td>\n",
       "      <td>0.0</td>\n",
       "      <td>33.0</td>\n",
       "    </tr>\n",
       "    <tr>\n",
       "      <th>...</th>\n",
       "      <td>...</td>\n",
       "      <td>...</td>\n",
       "      <td>...</td>\n",
       "      <td>...</td>\n",
       "    </tr>\n",
       "    <tr>\n",
       "      <th>17457</th>\n",
       "      <td>2023-09-18</td>\n",
       "      <td>73.0</td>\n",
       "      <td>0.0</td>\n",
       "      <td>60.0</td>\n",
       "    </tr>\n",
       "    <tr>\n",
       "      <th>17458</th>\n",
       "      <td>2023-09-19</td>\n",
       "      <td>70.0</td>\n",
       "      <td>0.0</td>\n",
       "      <td>60.0</td>\n",
       "    </tr>\n",
       "    <tr>\n",
       "      <th>17459</th>\n",
       "      <td>2023-09-20</td>\n",
       "      <td>71.0</td>\n",
       "      <td>0.0</td>\n",
       "      <td>60.0</td>\n",
       "    </tr>\n",
       "    <tr>\n",
       "      <th>17460</th>\n",
       "      <td>2023-09-21</td>\n",
       "      <td>72.0</td>\n",
       "      <td>0.0</td>\n",
       "      <td>55.0</td>\n",
       "    </tr>\n",
       "    <tr>\n",
       "      <th>17461</th>\n",
       "      <td>2023-09-22</td>\n",
       "      <td>70.0</td>\n",
       "      <td>0.0</td>\n",
       "      <td>54.0</td>\n",
       "    </tr>\n",
       "  </tbody>\n",
       "</table>\n",
       "<p>17462 rows × 4 columns</p>\n",
       "</div>"
      ],
      "text/plain": [
       "               ds     y  precip  temp_min\n",
       "0      1960-01-01  49.0     0.0      30.0\n",
       "1      1960-01-02  49.0     0.0      29.0\n",
       "2      1960-01-03  54.0     0.0      35.0\n",
       "3      1960-01-04  54.0     0.0      36.0\n",
       "4      1960-01-05  55.0     0.0      33.0\n",
       "...           ...   ...     ...       ...\n",
       "17457  2023-09-18  73.0     0.0      60.0\n",
       "17458  2023-09-19  70.0     0.0      60.0\n",
       "17459  2023-09-20  71.0     0.0      60.0\n",
       "17460  2023-09-21  72.0     0.0      55.0\n",
       "17461  2023-09-22  70.0     0.0      54.0\n",
       "\n",
       "[17462 rows x 4 columns]"
      ]
     },
     "execution_count": 2,
     "metadata": {},
     "output_type": "execute_result"
    }
   ],
   "source": [
    "target = pd.read_csv(\"data.csv\")\n",
    "target"
   ]
  },
  {
   "cell_type": "code",
   "execution_count": 3,
   "metadata": {},
   "outputs": [],
   "source": [
    "periods = 365"
   ]
  },
  {
   "cell_type": "code",
   "execution_count": 4,
   "metadata": {},
   "outputs": [],
   "source": [
    "target['ds']=pd.to_datetime(target['ds'])"
   ]
  },
  {
   "cell_type": "code",
   "execution_count": 6,
   "metadata": {},
   "outputs": [],
   "source": [
    "target_precip = target[['ds','precip']]\n",
    "target_precip.columns = ['ds','y']\n",
    "target_tmin = target[['ds','temp_min']]\n",
    "target_tmin.columns = ['ds','y']"
   ]
  },
  {
   "cell_type": "code",
   "execution_count": 7,
   "metadata": {},
   "outputs": [
    {
     "name": "stderr",
     "output_type": "stream",
     "text": [
      "WARNING - (NP.plotting.log_warning_deprecation_plotly) - DeprecationWarning: default plotting_backend will be changed to plotly in a future version. Switch to plotly by calling `m.set_plotting_backend('plotly')`.\n",
      "WARNING - (NP.forecaster.fit) - When Global modeling with local normalization, metrics are displayed in normalized scale.\n",
      "INFO - (NP.df_utils._infer_frequency) - Major frequency D corresponds to 99.971% of the data.\n",
      "INFO - (NP.df_utils._infer_frequency) - Defined frequency is equal to major frequency - D\n",
      "INFO - (NP.config.init_data_params) - Setting normalization to global as only one dataframe provided for training.\n",
      "INFO - (NP.utils.set_auto_seasonalities) - Disabling daily seasonality. Run NeuralProphet with daily_seasonality=True to override this.\n",
      "INFO - (NP.config.set_auto_batch_epoch) - Auto-set batch_size to 64\n"
     ]
    },
    {
     "data": {
      "application/vnd.jupyter.widget-view+json": {
       "model_id": "41b6b0e54b0c4ea7a794d6a7fa1cb1ca",
       "version_major": 2,
       "version_minor": 0
      },
      "text/plain": [
       "Finding best initial lr:   0%|          | 0/256 [00:00<?, ?it/s]"
      ]
     },
     "metadata": {},
     "output_type": "display_data"
    },
    {
     "data": {
      "application/vnd.jupyter.widget-view+json": {
       "model_id": "83de7b2d9a684e5fafc86547ab061f6f",
       "version_major": 2,
       "version_minor": 0
      },
      "text/plain": [
       "Training: 0it [00:00, ?it/s]"
      ]
     },
     "metadata": {},
     "output_type": "display_data"
    },
    {
     "data": {
      "text/html": [
       "<div>\n",
       "<style scoped>\n",
       "    .dataframe tbody tr th:only-of-type {\n",
       "        vertical-align: middle;\n",
       "    }\n",
       "\n",
       "    .dataframe tbody tr th {\n",
       "        vertical-align: top;\n",
       "    }\n",
       "\n",
       "    .dataframe thead th {\n",
       "        text-align: right;\n",
       "    }\n",
       "</style>\n",
       "<table border=\"1\" class=\"dataframe\">\n",
       "  <thead>\n",
       "    <tr style=\"text-align: right;\">\n",
       "      <th></th>\n",
       "      <th>MAE</th>\n",
       "      <th>RMSE</th>\n",
       "      <th>Loss</th>\n",
       "      <th>RegLoss</th>\n",
       "      <th>epoch</th>\n",
       "    </tr>\n",
       "  </thead>\n",
       "  <tbody>\n",
       "    <tr>\n",
       "      <th>0</th>\n",
       "      <td>0.423636</td>\n",
       "      <td>0.551268</td>\n",
       "      <td>0.728925</td>\n",
       "      <td>0.0</td>\n",
       "      <td>0</td>\n",
       "    </tr>\n",
       "    <tr>\n",
       "      <th>1</th>\n",
       "      <td>0.337658</td>\n",
       "      <td>0.450240</td>\n",
       "      <td>0.534391</td>\n",
       "      <td>0.0</td>\n",
       "      <td>1</td>\n",
       "    </tr>\n",
       "    <tr>\n",
       "      <th>2</th>\n",
       "      <td>0.230215</td>\n",
       "      <td>0.317394</td>\n",
       "      <td>0.298985</td>\n",
       "      <td>0.0</td>\n",
       "      <td>2</td>\n",
       "    </tr>\n",
       "    <tr>\n",
       "      <th>3</th>\n",
       "      <td>0.123760</td>\n",
       "      <td>0.204222</td>\n",
       "      <td>0.115577</td>\n",
       "      <td>0.0</td>\n",
       "      <td>3</td>\n",
       "    </tr>\n",
       "    <tr>\n",
       "      <th>4</th>\n",
       "      <td>0.073503</td>\n",
       "      <td>0.171900</td>\n",
       "      <td>0.074564</td>\n",
       "      <td>0.0</td>\n",
       "      <td>4</td>\n",
       "    </tr>\n",
       "    <tr>\n",
       "      <th>...</th>\n",
       "      <td>...</td>\n",
       "      <td>...</td>\n",
       "      <td>...</td>\n",
       "      <td>...</td>\n",
       "      <td>...</td>\n",
       "    </tr>\n",
       "    <tr>\n",
       "      <th>95</th>\n",
       "      <td>0.063383</td>\n",
       "      <td>0.165051</td>\n",
       "      <td>0.069864</td>\n",
       "      <td>0.0</td>\n",
       "      <td>95</td>\n",
       "    </tr>\n",
       "    <tr>\n",
       "      <th>96</th>\n",
       "      <td>0.063609</td>\n",
       "      <td>0.163479</td>\n",
       "      <td>0.069847</td>\n",
       "      <td>0.0</td>\n",
       "      <td>96</td>\n",
       "    </tr>\n",
       "    <tr>\n",
       "      <th>97</th>\n",
       "      <td>0.063326</td>\n",
       "      <td>0.165820</td>\n",
       "      <td>0.069844</td>\n",
       "      <td>0.0</td>\n",
       "      <td>97</td>\n",
       "    </tr>\n",
       "    <tr>\n",
       "      <th>98</th>\n",
       "      <td>0.063268</td>\n",
       "      <td>0.164769</td>\n",
       "      <td>0.069888</td>\n",
       "      <td>0.0</td>\n",
       "      <td>98</td>\n",
       "    </tr>\n",
       "    <tr>\n",
       "      <th>99</th>\n",
       "      <td>0.063303</td>\n",
       "      <td>0.164519</td>\n",
       "      <td>0.069826</td>\n",
       "      <td>0.0</td>\n",
       "      <td>99</td>\n",
       "    </tr>\n",
       "  </tbody>\n",
       "</table>\n",
       "<p>100 rows × 5 columns</p>\n",
       "</div>"
      ],
      "text/plain": [
       "         MAE      RMSE      Loss  RegLoss  epoch\n",
       "0   0.423636  0.551268  0.728925      0.0      0\n",
       "1   0.337658  0.450240  0.534391      0.0      1\n",
       "2   0.230215  0.317394  0.298985      0.0      2\n",
       "3   0.123760  0.204222  0.115577      0.0      3\n",
       "4   0.073503  0.171900  0.074564      0.0      4\n",
       "..       ...       ...       ...      ...    ...\n",
       "95  0.063383  0.165051  0.069864      0.0     95\n",
       "96  0.063609  0.163479  0.069847      0.0     96\n",
       "97  0.063326  0.165820  0.069844      0.0     97\n",
       "98  0.063268  0.164769  0.069888      0.0     98\n",
       "99  0.063303  0.164519  0.069826      0.0     99\n",
       "\n",
       "[100 rows x 5 columns]"
      ]
     },
     "execution_count": 7,
     "metadata": {},
     "output_type": "execute_result"
    }
   ],
   "source": [
    "tp = NeuralProphet()\n",
    "tp.set_plotting_backend(\"matplotlib\")\n",
    "tp.fit(target_precip,freq='D',epochs= 100)"
   ]
  },
  {
   "cell_type": "code",
   "execution_count": 8,
   "metadata": {},
   "outputs": [
    {
     "name": "stderr",
     "output_type": "stream",
     "text": [
      "INFO - (NP.df_utils._infer_frequency) - Major frequency D corresponds to 99.971% of the data.\n",
      "INFO - (NP.df_utils._infer_frequency) - Defined frequency is equal to major frequency - D\n",
      "INFO - (NP.df_utils.return_df_in_original_format) - Returning df with no ID column\n"
     ]
    },
    {
     "name": "stderr",
     "output_type": "stream",
     "text": [
      "INFO - (NP.df_utils._infer_frequency) - Major frequency D corresponds to 99.972% of the data.\n",
      "INFO - (NP.df_utils._infer_frequency) - Defined frequency is equal to major frequency - D\n",
      "INFO - (NP.df_utils._infer_frequency) - Major frequency D corresponds to 99.972% of the data.\n",
      "INFO - (NP.df_utils._infer_frequency) - Defined frequency is equal to major frequency - D\n"
     ]
    },
    {
     "data": {
      "application/vnd.jupyter.widget-view+json": {
       "model_id": "068ab41ed1024363b069e3968442d384",
       "version_major": 2,
       "version_minor": 0
      },
      "text/plain": [
       "Predicting: 273it [00:00, ?it/s]"
      ]
     },
     "metadata": {},
     "output_type": "display_data"
    },
    {
     "name": "stderr",
     "output_type": "stream",
     "text": [
      "INFO - (NP.df_utils.return_df_in_original_format) - Returning df with no ID column\n"
     ]
    },
    {
     "data": {
      "text/html": [
       "<div>\n",
       "<style scoped>\n",
       "    .dataframe tbody tr th:only-of-type {\n",
       "        vertical-align: middle;\n",
       "    }\n",
       "\n",
       "    .dataframe tbody tr th {\n",
       "        vertical-align: top;\n",
       "    }\n",
       "\n",
       "    .dataframe thead th {\n",
       "        text-align: right;\n",
       "    }\n",
       "</style>\n",
       "<table border=\"1\" class=\"dataframe\">\n",
       "  <thead>\n",
       "    <tr style=\"text-align: right;\">\n",
       "      <th></th>\n",
       "      <th>ds</th>\n",
       "      <th>y</th>\n",
       "      <th>yhat1</th>\n",
       "      <th>trend</th>\n",
       "      <th>season_yearly</th>\n",
       "      <th>season_weekly</th>\n",
       "    </tr>\n",
       "  </thead>\n",
       "  <tbody>\n",
       "    <tr>\n",
       "      <th>17462</th>\n",
       "      <td>2023-09-23</td>\n",
       "      <td>NaN</td>\n",
       "      <td>0.002465</td>\n",
       "      <td>0.025880</td>\n",
       "      <td>-0.024551</td>\n",
       "      <td>0.001136</td>\n",
       "    </tr>\n",
       "    <tr>\n",
       "      <th>17463</th>\n",
       "      <td>2023-09-24</td>\n",
       "      <td>NaN</td>\n",
       "      <td>0.002440</td>\n",
       "      <td>0.025879</td>\n",
       "      <td>-0.024066</td>\n",
       "      <td>0.000627</td>\n",
       "    </tr>\n",
       "    <tr>\n",
       "      <th>17464</th>\n",
       "      <td>2023-09-25</td>\n",
       "      <td>NaN</td>\n",
       "      <td>0.001627</td>\n",
       "      <td>0.025878</td>\n",
       "      <td>-0.023552</td>\n",
       "      <td>-0.000698</td>\n",
       "    </tr>\n",
       "    <tr>\n",
       "      <th>17465</th>\n",
       "      <td>2023-09-26</td>\n",
       "      <td>NaN</td>\n",
       "      <td>0.003333</td>\n",
       "      <td>0.025877</td>\n",
       "      <td>-0.023009</td>\n",
       "      <td>0.000465</td>\n",
       "    </tr>\n",
       "    <tr>\n",
       "      <th>17466</th>\n",
       "      <td>2023-09-27</td>\n",
       "      <td>NaN</td>\n",
       "      <td>0.002930</td>\n",
       "      <td>0.025876</td>\n",
       "      <td>-0.022439</td>\n",
       "      <td>-0.000507</td>\n",
       "    </tr>\n",
       "    <tr>\n",
       "      <th>...</th>\n",
       "      <td>...</td>\n",
       "      <td>...</td>\n",
       "      <td>...</td>\n",
       "      <td>...</td>\n",
       "      <td>...</td>\n",
       "      <td>...</td>\n",
       "    </tr>\n",
       "    <tr>\n",
       "      <th>17822</th>\n",
       "      <td>2024-09-17</td>\n",
       "      <td>NaN</td>\n",
       "      <td>-0.000605</td>\n",
       "      <td>0.025517</td>\n",
       "      <td>-0.026588</td>\n",
       "      <td>0.000465</td>\n",
       "    </tr>\n",
       "    <tr>\n",
       "      <th>17823</th>\n",
       "      <td>2024-09-18</td>\n",
       "      <td>NaN</td>\n",
       "      <td>-0.001257</td>\n",
       "      <td>0.025516</td>\n",
       "      <td>-0.026267</td>\n",
       "      <td>-0.000507</td>\n",
       "    </tr>\n",
       "    <tr>\n",
       "      <th>17824</th>\n",
       "      <td>2024-09-19</td>\n",
       "      <td>NaN</td>\n",
       "      <td>-0.001445</td>\n",
       "      <td>0.025515</td>\n",
       "      <td>-0.025914</td>\n",
       "      <td>-0.001046</td>\n",
       "    </tr>\n",
       "    <tr>\n",
       "      <th>17825</th>\n",
       "      <td>2024-09-20</td>\n",
       "      <td>NaN</td>\n",
       "      <td>0.000007</td>\n",
       "      <td>0.025514</td>\n",
       "      <td>-0.025530</td>\n",
       "      <td>0.000022</td>\n",
       "    </tr>\n",
       "    <tr>\n",
       "      <th>17826</th>\n",
       "      <td>2024-09-21</td>\n",
       "      <td>NaN</td>\n",
       "      <td>0.001536</td>\n",
       "      <td>0.025513</td>\n",
       "      <td>-0.025114</td>\n",
       "      <td>0.001136</td>\n",
       "    </tr>\n",
       "  </tbody>\n",
       "</table>\n",
       "<p>365 rows × 6 columns</p>\n",
       "</div>"
      ],
      "text/plain": [
       "              ds   y     yhat1     trend  season_yearly  season_weekly\n",
       "17462 2023-09-23 NaN  0.002465  0.025880      -0.024551       0.001136\n",
       "17463 2023-09-24 NaN  0.002440  0.025879      -0.024066       0.000627\n",
       "17464 2023-09-25 NaN  0.001627  0.025878      -0.023552      -0.000698\n",
       "17465 2023-09-26 NaN  0.003333  0.025877      -0.023009       0.000465\n",
       "17466 2023-09-27 NaN  0.002930  0.025876      -0.022439      -0.000507\n",
       "...          ...  ..       ...       ...            ...            ...\n",
       "17822 2024-09-17 NaN -0.000605  0.025517      -0.026588       0.000465\n",
       "17823 2024-09-18 NaN -0.001257  0.025516      -0.026267      -0.000507\n",
       "17824 2024-09-19 NaN -0.001445  0.025515      -0.025914      -0.001046\n",
       "17825 2024-09-20 NaN  0.000007  0.025514      -0.025530       0.000022\n",
       "17826 2024-09-21 NaN  0.001536  0.025513      -0.025114       0.001136\n",
       "\n",
       "[365 rows x 6 columns]"
      ]
     },
     "execution_count": 8,
     "metadata": {},
     "output_type": "execute_result"
    }
   ],
   "source": [
    "future_precip=tp.make_future_dataframe(target_precip,n_historic_predictions=True,periods=periods)\n",
    "fcst_precip = tp.predict(future_precip)\n",
    "fcst_precip[-365:]"
   ]
  },
  {
   "cell_type": "code",
   "execution_count": null,
   "metadata": {},
   "outputs": [],
   "source": [
    "#####\n",
    "#%%timeit\n",
    "filename = 'reg_precip.sav'\n",
    "joblib.dump(tp,filename)\n",
    "#####"
   ]
  },
  {
   "cell_type": "code",
   "execution_count": null,
   "metadata": {},
   "outputs": [],
   "source": [
    "#####\n",
    "with open('reg_precip.pkl','wb') as filename1:\n",
    "    pickle.dump(tp, filename1)\n",
    "#####"
   ]
  },
  {
   "cell_type": "code",
   "execution_count": 63,
   "metadata": {},
   "outputs": [
    {
     "name": "stderr",
     "output_type": "stream",
     "text": [
      "WARNING - (NP.plotting.log_warning_deprecation_plotly) - DeprecationWarning: default plotting_backend will be changed to plotly in a future version. Switch to plotly by calling `m.set_plotting_backend('plotly')`.\n",
      "WARNING - (NP.forecaster.fit) - When Global modeling with local normalization, metrics are displayed in normalized scale.\n",
      "INFO - (NP.df_utils._infer_frequency) - Major frequency D corresponds to 99.971% of the data.\n",
      "INFO - (NP.df_utils._infer_frequency) - Defined frequency is equal to major frequency - D\n",
      "INFO - (NP.config.init_data_params) - Setting normalization to global as only one dataframe provided for training.\n",
      "INFO - (NP.utils.set_auto_seasonalities) - Disabling daily seasonality. Run NeuralProphet with daily_seasonality=True to override this.\n",
      "INFO - (NP.config.set_auto_batch_epoch) - Auto-set batch_size to 64\n"
     ]
    },
    {
     "data": {
      "application/vnd.jupyter.widget-view+json": {
       "model_id": "4a2be663fa314fa796f1d7c334465668",
       "version_major": 2,
       "version_minor": 0
      },
      "text/plain": [
       "Finding best initial lr:   0%|          | 0/256 [00:00<?, ?it/s]"
      ]
     },
     "metadata": {},
     "output_type": "display_data"
    },
    {
     "data": {
      "application/vnd.jupyter.widget-view+json": {
       "model_id": "6b4fa2003a2b418f991c044b8e528fd4",
       "version_major": 2,
       "version_minor": 0
      },
      "text/plain": [
       "Training: 0it [00:00, ?it/s]"
      ]
     },
     "metadata": {},
     "output_type": "display_data"
    }
   ],
   "source": [
    "tm = NeuralProphet()\n",
    "tm.set_plotting_backend(\"matplotlib\")\n",
    "metrics = tm.fit(target_tmin,freq='D',epochs= 100)\n"
   ]
  },
  {
   "cell_type": "code",
   "execution_count": 1,
   "metadata": {},
   "outputs": [
    {
     "ename": "NameError",
     "evalue": "name 'tm' is not defined",
     "output_type": "error",
     "traceback": [
      "\u001b[0;31m---------------------------------------------------------------------------\u001b[0m",
      "\u001b[0;31mNameError\u001b[0m                                 Traceback (most recent call last)",
      "\u001b[1;32m/root/weather_app/NP.ipynb Cell 14\u001b[0m line \u001b[0;36m1\n\u001b[0;32m----> <a href='vscode-notebook-cell://wsl%2Bubuntu/root/weather_app/NP.ipynb#X16sdnNjb2RlLXJlbW90ZQ%3D%3D?line=0'>1</a>\u001b[0m future_tmin\u001b[39m=\u001b[39mtm\u001b[39m.\u001b[39mmake_future_dataframe(target_tmin,n_historic_predictions\u001b[39m=\u001b[39m\u001b[39mTrue\u001b[39;00m,periods\u001b[39m=\u001b[39mperiods)\n\u001b[1;32m      <a href='vscode-notebook-cell://wsl%2Bubuntu/root/weather_app/NP.ipynb#X16sdnNjb2RlLXJlbW90ZQ%3D%3D?line=1'>2</a>\u001b[0m fcst_tmin \u001b[39m=\u001b[39m tm\u001b[39m.\u001b[39mpredict(future_tmin)\n\u001b[1;32m      <a href='vscode-notebook-cell://wsl%2Bubuntu/root/weather_app/NP.ipynb#X16sdnNjb2RlLXJlbW90ZQ%3D%3D?line=2'>3</a>\u001b[0m fcst_tmin[\u001b[39m-\u001b[39m\u001b[39m365\u001b[39m:]\n",
      "\u001b[0;31mNameError\u001b[0m: name 'tm' is not defined"
     ]
    }
   ],
   "source": [
    "future_tmin=tm.make_future_dataframe(target_tmin,n_historic_predictions=True,periods=periods)\n",
    "fcst_tmin = tm.predict(future_tmin)\n",
    "fcst_tmin[-365:]"
   ]
  },
  {
   "cell_type": "code",
   "execution_count": null,
   "metadata": {},
   "outputs": [],
   "source": [
    "#####\n",
    "filename = 'np_reg_tmin.sav'\n",
    "joblib.dump(tm, filename)\n",
    "#####"
   ]
  },
  {
   "cell_type": "code",
   "execution_count": null,
   "metadata": {},
   "outputs": [],
   "source": [
    "#####\n",
    "filename = 'np_reg_precip.sav'\n",
    "precip_model = joblib.load(filename)\n",
    "#####"
   ]
  },
  {
   "cell_type": "code",
   "execution_count": 48,
   "metadata": {},
   "outputs": [],
   "source": [
    "future = fcst_precip[['ds','yhat1']].copy()"
   ]
  },
  {
   "cell_type": "code",
   "execution_count": 49,
   "metadata": {},
   "outputs": [],
   "source": [
    "future.rename(columns = {'yhat1':'precip'}, inplace = True)"
   ]
  },
  {
   "cell_type": "code",
   "execution_count": 50,
   "metadata": {},
   "outputs": [],
   "source": [
    "future = future.merge(fcst_tmin[['ds','yhat1']],how='outer',on='ds')"
   ]
  },
  {
   "cell_type": "code",
   "execution_count": 51,
   "metadata": {},
   "outputs": [],
   "source": [
    "future.rename(columns = {'yhat1':'temp_min'}, inplace = True)"
   ]
  },
  {
   "cell_type": "code",
   "execution_count": 46,
   "metadata": {},
   "outputs": [],
   "source": [
    "future = future.merge(target[['ds','y']],how='outer',on='ds')"
   ]
  },
  {
   "cell_type": "code",
   "execution_count": 39,
   "metadata": {},
   "outputs": [],
   "source": [
    "future = future[['ds','y','precip','temp_min']]"
   ]
  },
  {
   "cell_type": "code",
   "execution_count": 52,
   "metadata": {},
   "outputs": [
    {
     "data": {
      "text/html": [
       "<div>\n",
       "<style scoped>\n",
       "    .dataframe tbody tr th:only-of-type {\n",
       "        vertical-align: middle;\n",
       "    }\n",
       "\n",
       "    .dataframe tbody tr th {\n",
       "        vertical-align: top;\n",
       "    }\n",
       "\n",
       "    .dataframe thead th {\n",
       "        text-align: right;\n",
       "    }\n",
       "</style>\n",
       "<table border=\"1\" class=\"dataframe\">\n",
       "  <thead>\n",
       "    <tr style=\"text-align: right;\">\n",
       "      <th></th>\n",
       "      <th>ds</th>\n",
       "      <th>precip</th>\n",
       "      <th>temp_min</th>\n",
       "    </tr>\n",
       "  </thead>\n",
       "  <tbody>\n",
       "    <tr>\n",
       "      <th>0</th>\n",
       "      <td>1960-01-01</td>\n",
       "      <td>0.060816</td>\n",
       "      <td>39.840076</td>\n",
       "    </tr>\n",
       "    <tr>\n",
       "      <th>1</th>\n",
       "      <td>1960-01-02</td>\n",
       "      <td>0.061225</td>\n",
       "      <td>39.812748</td>\n",
       "    </tr>\n",
       "    <tr>\n",
       "      <th>2</th>\n",
       "      <td>1960-01-03</td>\n",
       "      <td>0.060240</td>\n",
       "      <td>39.756355</td>\n",
       "    </tr>\n",
       "    <tr>\n",
       "      <th>3</th>\n",
       "      <td>1960-01-04</td>\n",
       "      <td>0.058673</td>\n",
       "      <td>39.796684</td>\n",
       "    </tr>\n",
       "    <tr>\n",
       "      <th>4</th>\n",
       "      <td>1960-01-05</td>\n",
       "      <td>0.059053</td>\n",
       "      <td>39.891670</td>\n",
       "    </tr>\n",
       "    <tr>\n",
       "      <th>...</th>\n",
       "      <td>...</td>\n",
       "      <td>...</td>\n",
       "      <td>...</td>\n",
       "    </tr>\n",
       "    <tr>\n",
       "      <th>17822</th>\n",
       "      <td>2024-09-17</td>\n",
       "      <td>-0.000303</td>\n",
       "      <td>56.942707</td>\n",
       "    </tr>\n",
       "    <tr>\n",
       "      <th>17823</th>\n",
       "      <td>2024-09-18</td>\n",
       "      <td>-0.000697</td>\n",
       "      <td>56.921963</td>\n",
       "    </tr>\n",
       "    <tr>\n",
       "      <th>17824</th>\n",
       "      <td>2024-09-19</td>\n",
       "      <td>-0.000970</td>\n",
       "      <td>56.863838</td>\n",
       "    </tr>\n",
       "    <tr>\n",
       "      <th>17825</th>\n",
       "      <td>2024-09-20</td>\n",
       "      <td>0.000546</td>\n",
       "      <td>56.738834</td>\n",
       "    </tr>\n",
       "    <tr>\n",
       "      <th>17826</th>\n",
       "      <td>2024-09-21</td>\n",
       "      <td>0.001805</td>\n",
       "      <td>56.591988</td>\n",
       "    </tr>\n",
       "  </tbody>\n",
       "</table>\n",
       "<p>17827 rows × 3 columns</p>\n",
       "</div>"
      ],
      "text/plain": [
       "              ds    precip   temp_min\n",
       "0     1960-01-01  0.060816  39.840076\n",
       "1     1960-01-02  0.061225  39.812748\n",
       "2     1960-01-03  0.060240  39.756355\n",
       "3     1960-01-04  0.058673  39.796684\n",
       "4     1960-01-05  0.059053  39.891670\n",
       "...          ...       ...        ...\n",
       "17822 2024-09-17 -0.000303  56.942707\n",
       "17823 2024-09-18 -0.000697  56.921963\n",
       "17824 2024-09-19 -0.000970  56.863838\n",
       "17825 2024-09-20  0.000546  56.738834\n",
       "17826 2024-09-21  0.001805  56.591988\n",
       "\n",
       "[17827 rows x 3 columns]"
      ]
     },
     "execution_count": 52,
     "metadata": {},
     "output_type": "execute_result"
    }
   ],
   "source": [
    "future"
   ]
  },
  {
   "cell_type": "code",
   "execution_count": 56,
   "metadata": {},
   "outputs": [],
   "source": [
    "main_model.restore_trainer()"
   ]
  },
  {
   "cell_type": "code",
   "execution_count": 66,
   "metadata": {},
   "outputs": [
    {
     "name": "stderr",
     "output_type": "stream",
     "text": [
      "INFO - (NP.df_utils._infer_frequency) - Major frequency D corresponds to 99.971% of the data.\n",
      "INFO - (NP.df_utils._infer_frequency) - Defined frequency is equal to major frequency - D\n",
      "WARNING - (NP.data.splitting._make_future_dataframe) - Number of forecast steps is defined by n_forecasts. Adjusted to 1.\n",
      "INFO - (NP.df_utils.return_df_in_original_format) - Returning df with no ID column\n",
      "INFO - (NP.df_utils._infer_frequency) - Major frequency D corresponds to 99.971% of the data.\n",
      "INFO - (NP.df_utils._infer_frequency) - Defined frequency is equal to major frequency - D\n",
      "INFO - (NP.df_utils._infer_frequency) - Major frequency D corresponds to 99.971% of the data.\n",
      "INFO - (NP.df_utils._infer_frequency) - Defined frequency is equal to major frequency - D\n"
     ]
    },
    {
     "data": {
      "application/vnd.jupyter.widget-view+json": {
       "model_id": "27704daf73f04272ba5914abe622c4e1",
       "version_major": 2,
       "version_minor": 0
      },
      "text/plain": [
       "Predicting: 0it [00:00, ?it/s]"
      ]
     },
     "metadata": {},
     "output_type": "display_data"
    },
    {
     "name": "stderr",
     "output_type": "stream",
     "text": [
      "INFO - (NP.df_utils.return_df_in_original_format) - Returning df with no ID column\n"
     ]
    },
    {
     "data": {
      "text/html": [
       "<div>\n",
       "<style scoped>\n",
       "    .dataframe tbody tr th:only-of-type {\n",
       "        vertical-align: middle;\n",
       "    }\n",
       "\n",
       "    .dataframe tbody tr th {\n",
       "        vertical-align: top;\n",
       "    }\n",
       "\n",
       "    .dataframe thead th {\n",
       "        text-align: right;\n",
       "    }\n",
       "</style>\n",
       "<table border=\"1\" class=\"dataframe\">\n",
       "  <thead>\n",
       "    <tr style=\"text-align: right;\">\n",
       "      <th></th>\n",
       "      <th>ds</th>\n",
       "      <th>y</th>\n",
       "      <th>yhat1</th>\n",
       "      <th>lagged_regressor_precip1</th>\n",
       "      <th>lagged_regressor_temp_min1</th>\n",
       "      <th>trend</th>\n",
       "      <th>season_yearly</th>\n",
       "      <th>season_weekly</th>\n",
       "    </tr>\n",
       "  </thead>\n",
       "  <tbody>\n",
       "    <tr>\n",
       "      <th>0</th>\n",
       "      <td>1960-01-01</td>\n",
       "      <td>49.0</td>\n",
       "      <td>NaN</td>\n",
       "      <td>NaN</td>\n",
       "      <td>NaN</td>\n",
       "      <td>NaN</td>\n",
       "      <td>NaN</td>\n",
       "      <td>NaN</td>\n",
       "    </tr>\n",
       "    <tr>\n",
       "      <th>1</th>\n",
       "      <td>1960-01-02</td>\n",
       "      <td>49.0</td>\n",
       "      <td>54.678619</td>\n",
       "      <td>-0.710009</td>\n",
       "      <td>8.239253</td>\n",
       "      <td>54.692520</td>\n",
       "      <td>-7.407285</td>\n",
       "      <td>-0.135866</td>\n",
       "    </tr>\n",
       "    <tr>\n",
       "      <th>2</th>\n",
       "      <td>1960-01-03</td>\n",
       "      <td>54.0</td>\n",
       "      <td>54.553192</td>\n",
       "      <td>-0.685525</td>\n",
       "      <td>7.955141</td>\n",
       "      <td>54.690174</td>\n",
       "      <td>-7.372572</td>\n",
       "      <td>-0.034028</td>\n",
       "    </tr>\n",
       "    <tr>\n",
       "      <th>3</th>\n",
       "      <td>1960-01-04</td>\n",
       "      <td>54.0</td>\n",
       "      <td>56.360649</td>\n",
       "      <td>-0.832424</td>\n",
       "      <td>9.659815</td>\n",
       "      <td>54.687828</td>\n",
       "      <td>-7.332731</td>\n",
       "      <td>0.178164</td>\n",
       "    </tr>\n",
       "    <tr>\n",
       "      <th>4</th>\n",
       "      <td>1960-01-05</td>\n",
       "      <td>55.0</td>\n",
       "      <td>56.650627</td>\n",
       "      <td>-0.856907</td>\n",
       "      <td>9.943927</td>\n",
       "      <td>54.685478</td>\n",
       "      <td>-7.287987</td>\n",
       "      <td>0.166115</td>\n",
       "    </tr>\n",
       "    <tr>\n",
       "      <th>...</th>\n",
       "      <td>...</td>\n",
       "      <td>...</td>\n",
       "      <td>...</td>\n",
       "      <td>...</td>\n",
       "      <td>...</td>\n",
       "      <td>...</td>\n",
       "      <td>...</td>\n",
       "      <td>...</td>\n",
       "    </tr>\n",
       "    <tr>\n",
       "      <th>17458</th>\n",
       "      <td>2023-09-19</td>\n",
       "      <td>70.0</td>\n",
       "      <td>77.345520</td>\n",
       "      <td>-1.444500</td>\n",
       "      <td>16.762619</td>\n",
       "      <td>55.337311</td>\n",
       "      <td>6.523974</td>\n",
       "      <td>0.166115</td>\n",
       "    </tr>\n",
       "    <tr>\n",
       "      <th>17459</th>\n",
       "      <td>2023-09-20</td>\n",
       "      <td>71.0</td>\n",
       "      <td>77.258102</td>\n",
       "      <td>-1.444500</td>\n",
       "      <td>16.762619</td>\n",
       "      <td>55.337566</td>\n",
       "      <td>6.518950</td>\n",
       "      <td>0.083464</td>\n",
       "    </tr>\n",
       "    <tr>\n",
       "      <th>17460</th>\n",
       "      <td>2023-09-21</td>\n",
       "      <td>72.0</td>\n",
       "      <td>77.065491</td>\n",
       "      <td>-1.444500</td>\n",
       "      <td>16.762619</td>\n",
       "      <td>55.337822</td>\n",
       "      <td>6.508106</td>\n",
       "      <td>-0.098555</td>\n",
       "    </tr>\n",
       "    <tr>\n",
       "      <th>17461</th>\n",
       "      <td>2023-09-22</td>\n",
       "      <td>70.0</td>\n",
       "      <td>75.690208</td>\n",
       "      <td>-1.322085</td>\n",
       "      <td>15.342059</td>\n",
       "      <td>55.338074</td>\n",
       "      <td>6.491450</td>\n",
       "      <td>-0.159294</td>\n",
       "    </tr>\n",
       "    <tr>\n",
       "      <th>17462</th>\n",
       "      <td>2023-09-23</td>\n",
       "      <td>NaN</td>\n",
       "      <td>75.431808</td>\n",
       "      <td>-1.297602</td>\n",
       "      <td>15.057945</td>\n",
       "      <td>55.338333</td>\n",
       "      <td>6.468994</td>\n",
       "      <td>-0.135866</td>\n",
       "    </tr>\n",
       "  </tbody>\n",
       "</table>\n",
       "<p>17463 rows × 8 columns</p>\n",
       "</div>"
      ],
      "text/plain": [
       "              ds     y      yhat1  lagged_regressor_precip1  \\\n",
       "0     1960-01-01  49.0        NaN                       NaN   \n",
       "1     1960-01-02  49.0  54.678619                 -0.710009   \n",
       "2     1960-01-03  54.0  54.553192                 -0.685525   \n",
       "3     1960-01-04  54.0  56.360649                 -0.832424   \n",
       "4     1960-01-05  55.0  56.650627                 -0.856907   \n",
       "...          ...   ...        ...                       ...   \n",
       "17458 2023-09-19  70.0  77.345520                 -1.444500   \n",
       "17459 2023-09-20  71.0  77.258102                 -1.444500   \n",
       "17460 2023-09-21  72.0  77.065491                 -1.444500   \n",
       "17461 2023-09-22  70.0  75.690208                 -1.322085   \n",
       "17462 2023-09-23   NaN  75.431808                 -1.297602   \n",
       "\n",
       "       lagged_regressor_temp_min1      trend  season_yearly  season_weekly  \n",
       "0                             NaN        NaN            NaN            NaN  \n",
       "1                        8.239253  54.692520      -7.407285      -0.135866  \n",
       "2                        7.955141  54.690174      -7.372572      -0.034028  \n",
       "3                        9.659815  54.687828      -7.332731       0.178164  \n",
       "4                        9.943927  54.685478      -7.287987       0.166115  \n",
       "...                           ...        ...            ...            ...  \n",
       "17458                   16.762619  55.337311       6.523974       0.166115  \n",
       "17459                   16.762619  55.337566       6.518950       0.083464  \n",
       "17460                   16.762619  55.337822       6.508106      -0.098555  \n",
       "17461                   15.342059  55.338074       6.491450      -0.159294  \n",
       "17462                   15.057945  55.338333       6.468994      -0.135866  \n",
       "\n",
       "[17463 rows x 8 columns]"
      ]
     },
     "execution_count": 66,
     "metadata": {},
     "output_type": "execute_result"
    }
   ],
   "source": [
    "df_future = main_model.make_future_dataframe(target,n_historic_predictions=True,periods=periods)\n",
    "forecast = main_model.predict(df_future)\n",
    "forecast"
   ]
  },
  {
   "cell_type": "code",
   "execution_count": null,
   "metadata": {},
   "outputs": [],
   "source": []
  }
 ],
 "metadata": {
  "kernelspec": {
   "display_name": "Python 3",
   "language": "python",
   "name": "python3"
  },
  "language_info": {
   "codemirror_mode": {
    "name": "ipython",
    "version": 3
   },
   "file_extension": ".py",
   "mimetype": "text/x-python",
   "name": "python",
   "nbconvert_exporter": "python",
   "pygments_lexer": "ipython3",
   "version": "3.10.12"
  },
  "orig_nbformat": 4
 },
 "nbformat": 4,
 "nbformat_minor": 2
}
